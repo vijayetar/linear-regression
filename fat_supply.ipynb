{
 "cells": [
  {
   "cell_type": "code",
   "execution_count": 1,
   "metadata": {},
   "outputs": [],
   "source": [
    "%matplotlib inline\n",
    "import pandas as pd\n",
    "import numpy as np\n",
    "import matplotlib.pyplot as plt\n",
    "from sklearn.linear_model import LinearRegression\n",
    "from sklearn.model_selection import train_test_split"
   ]
  },
  {
   "cell_type": "code",
   "execution_count": 2,
   "metadata": {},
   "outputs": [
    {
     "name": "stdout",
     "output_type": "stream",
     "text": [
      "Data Shape for st_mat: (153, 32)\n"
     ]
    }
   ],
   "source": [
    "fat_supply = pd.read_csv(\"./Fat_Supply_Quantity_Data.csv\").dropna()\n",
    "print(f\"Data Shape for st_mat: {fat_supply.shape}\")"
   ]
  },
  {
   "cell_type": "markdown",
   "metadata": {},
   "source": [
    "### First Five Rows Of The DataSet"
   ]
  },
  {
   "cell_type": "code",
   "execution_count": 15,
   "metadata": {},
   "outputs": [
    {
     "data": {
      "text/html": [
       "<div>\n",
       "<style scoped>\n",
       "    .dataframe tbody tr th:only-of-type {\n",
       "        vertical-align: middle;\n",
       "    }\n",
       "\n",
       "    .dataframe tbody tr th {\n",
       "        vertical-align: top;\n",
       "    }\n",
       "\n",
       "    .dataframe thead th {\n",
       "        text-align: right;\n",
       "    }\n",
       "</style>\n",
       "<table border=\"1\" class=\"dataframe\">\n",
       "  <thead>\n",
       "    <tr style=\"text-align: right;\">\n",
       "      <th></th>\n",
       "      <th>Country</th>\n",
       "      <th>Alcoholic Beverages</th>\n",
       "      <th>Animal Products</th>\n",
       "      <th>Animal fats</th>\n",
       "      <th>Aquatic Products, Other</th>\n",
       "      <th>Cereals - Excluding Beer</th>\n",
       "      <th>Eggs</th>\n",
       "      <th>Fish, Seafood</th>\n",
       "      <th>Fruits - Excluding Wine</th>\n",
       "      <th>Meat</th>\n",
       "      <th>...</th>\n",
       "      <th>Vegetable Oils</th>\n",
       "      <th>Vegetables</th>\n",
       "      <th>Obesity</th>\n",
       "      <th>Undernourished</th>\n",
       "      <th>Confirmed</th>\n",
       "      <th>Deaths</th>\n",
       "      <th>Recovered</th>\n",
       "      <th>Active</th>\n",
       "      <th>Population</th>\n",
       "      <th>Unit (all except Population)</th>\n",
       "    </tr>\n",
       "  </thead>\n",
       "  <tbody>\n",
       "    <tr>\n",
       "      <th>0</th>\n",
       "      <td>Afghanistan</td>\n",
       "      <td>0.0</td>\n",
       "      <td>21.6397</td>\n",
       "      <td>6.2224</td>\n",
       "      <td>0.0</td>\n",
       "      <td>8.0353</td>\n",
       "      <td>0.6859</td>\n",
       "      <td>0.0327</td>\n",
       "      <td>0.4246</td>\n",
       "      <td>6.1244</td>\n",
       "      <td>...</td>\n",
       "      <td>17.0831</td>\n",
       "      <td>0.3593</td>\n",
       "      <td>4.5</td>\n",
       "      <td>29.8</td>\n",
       "      <td>0.029370</td>\n",
       "      <td>0.000576</td>\n",
       "      <td>0.002884</td>\n",
       "      <td>0.025911</td>\n",
       "      <td>38042000.0</td>\n",
       "      <td>%</td>\n",
       "    </tr>\n",
       "    <tr>\n",
       "      <th>1</th>\n",
       "      <td>Albania</td>\n",
       "      <td>0.0</td>\n",
       "      <td>32.0002</td>\n",
       "      <td>3.4172</td>\n",
       "      <td>0.0</td>\n",
       "      <td>2.6734</td>\n",
       "      <td>1.6448</td>\n",
       "      <td>0.1445</td>\n",
       "      <td>0.6418</td>\n",
       "      <td>8.7428</td>\n",
       "      <td>...</td>\n",
       "      <td>9.2443</td>\n",
       "      <td>0.6503</td>\n",
       "      <td>22.3</td>\n",
       "      <td>6.2</td>\n",
       "      <td>0.035129</td>\n",
       "      <td>0.001120</td>\n",
       "      <td>0.027817</td>\n",
       "      <td>0.006193</td>\n",
       "      <td>2858000.0</td>\n",
       "      <td>%</td>\n",
       "    </tr>\n",
       "    <tr>\n",
       "      <th>2</th>\n",
       "      <td>Algeria</td>\n",
       "      <td>0.0</td>\n",
       "      <td>14.4175</td>\n",
       "      <td>0.8972</td>\n",
       "      <td>0.0</td>\n",
       "      <td>4.2035</td>\n",
       "      <td>1.2171</td>\n",
       "      <td>0.2008</td>\n",
       "      <td>0.5772</td>\n",
       "      <td>3.8961</td>\n",
       "      <td>...</td>\n",
       "      <td>27.3606</td>\n",
       "      <td>0.5145</td>\n",
       "      <td>26.6</td>\n",
       "      <td>3.9</td>\n",
       "      <td>0.019589</td>\n",
       "      <td>0.001403</td>\n",
       "      <td>0.010936</td>\n",
       "      <td>0.007250</td>\n",
       "      <td>43406000.0</td>\n",
       "      <td>%</td>\n",
       "    </tr>\n",
       "    <tr>\n",
       "      <th>3</th>\n",
       "      <td>Angola</td>\n",
       "      <td>0.0</td>\n",
       "      <td>15.3041</td>\n",
       "      <td>1.3130</td>\n",
       "      <td>0.0</td>\n",
       "      <td>6.5545</td>\n",
       "      <td>0.1539</td>\n",
       "      <td>1.4155</td>\n",
       "      <td>0.3488</td>\n",
       "      <td>11.0268</td>\n",
       "      <td>...</td>\n",
       "      <td>22.4638</td>\n",
       "      <td>0.1231</td>\n",
       "      <td>6.8</td>\n",
       "      <td>25</td>\n",
       "      <td>0.000223</td>\n",
       "      <td>0.000013</td>\n",
       "      <td>0.000057</td>\n",
       "      <td>0.000153</td>\n",
       "      <td>31427000.0</td>\n",
       "      <td>%</td>\n",
       "    </tr>\n",
       "    <tr>\n",
       "      <th>5</th>\n",
       "      <td>Argentina</td>\n",
       "      <td>0.0</td>\n",
       "      <td>30.3572</td>\n",
       "      <td>3.3076</td>\n",
       "      <td>0.0</td>\n",
       "      <td>1.3316</td>\n",
       "      <td>1.5706</td>\n",
       "      <td>0.1664</td>\n",
       "      <td>0.2091</td>\n",
       "      <td>19.2693</td>\n",
       "      <td>...</td>\n",
       "      <td>17.3147</td>\n",
       "      <td>0.1878</td>\n",
       "      <td>28.5</td>\n",
       "      <td>4.6</td>\n",
       "      <td>0.028100</td>\n",
       "      <td>0.001039</td>\n",
       "      <td>0.008899</td>\n",
       "      <td>0.018162</td>\n",
       "      <td>44939000.0</td>\n",
       "      <td>%</td>\n",
       "    </tr>\n",
       "  </tbody>\n",
       "</table>\n",
       "<p>5 rows × 32 columns</p>\n",
       "</div>"
      ],
      "text/plain": [
       "       Country  Alcoholic Beverages  Animal Products  Animal fats  \\\n",
       "0  Afghanistan                  0.0          21.6397       6.2224   \n",
       "1      Albania                  0.0          32.0002       3.4172   \n",
       "2      Algeria                  0.0          14.4175       0.8972   \n",
       "3       Angola                  0.0          15.3041       1.3130   \n",
       "5    Argentina                  0.0          30.3572       3.3076   \n",
       "\n",
       "   Aquatic Products, Other  Cereals - Excluding Beer    Eggs  Fish, Seafood  \\\n",
       "0                      0.0                    8.0353  0.6859         0.0327   \n",
       "1                      0.0                    2.6734  1.6448         0.1445   \n",
       "2                      0.0                    4.2035  1.2171         0.2008   \n",
       "3                      0.0                    6.5545  0.1539         1.4155   \n",
       "5                      0.0                    1.3316  1.5706         0.1664   \n",
       "\n",
       "   Fruits - Excluding Wine     Meat  ...  Vegetable Oils  Vegetables  Obesity  \\\n",
       "0                   0.4246   6.1244  ...         17.0831      0.3593      4.5   \n",
       "1                   0.6418   8.7428  ...          9.2443      0.6503     22.3   \n",
       "2                   0.5772   3.8961  ...         27.3606      0.5145     26.6   \n",
       "3                   0.3488  11.0268  ...         22.4638      0.1231      6.8   \n",
       "5                   0.2091  19.2693  ...         17.3147      0.1878     28.5   \n",
       "\n",
       "   Undernourished  Confirmed    Deaths  Recovered    Active  Population  \\\n",
       "0            29.8   0.029370  0.000576   0.002884  0.025911  38042000.0   \n",
       "1             6.2   0.035129  0.001120   0.027817  0.006193   2858000.0   \n",
       "2             3.9   0.019589  0.001403   0.010936  0.007250  43406000.0   \n",
       "3              25   0.000223  0.000013   0.000057  0.000153  31427000.0   \n",
       "5             4.6   0.028100  0.001039   0.008899  0.018162  44939000.0   \n",
       "\n",
       "   Unit (all except Population)  \n",
       "0                             %  \n",
       "1                             %  \n",
       "2                             %  \n",
       "3                             %  \n",
       "5                             %  \n",
       "\n",
       "[5 rows x 32 columns]"
      ]
     },
     "execution_count": 15,
     "metadata": {},
     "output_type": "execute_result"
    }
   ],
   "source": [
    "fat_supply.head()"
   ]
  },
  {
   "cell_type": "markdown",
   "metadata": {},
   "source": [
    "### Description and the Info Of the Data Set"
   ]
  },
  {
   "cell_type": "code",
   "execution_count": 16,
   "metadata": {},
   "outputs": [
    {
     "data": {
      "text/plain": [
       "<bound method NDFrame.describe of                                 Country  Alcoholic Beverages  Animal Products  \\\n",
       "0                           Afghanistan               0.0000          21.6397   \n",
       "1                               Albania               0.0000          32.0002   \n",
       "2                               Algeria               0.0000          14.4175   \n",
       "3                                Angola               0.0000          15.3041   \n",
       "5                             Argentina               0.0000          30.3572   \n",
       "..                                  ...                  ...              ...   \n",
       "165  Venezuela (Bolivarian Republic of)               0.0000          16.3261   \n",
       "166                             Vietnam               0.0000          33.2484   \n",
       "167                               Yemen               0.0000          12.5401   \n",
       "168                              Zambia               0.0783           9.6005   \n",
       "169                            Zimbabwe               0.0000          10.3796   \n",
       "\n",
       "     Animal fats  Aquatic Products, Other  Cereals - Excluding Beer    Eggs  \\\n",
       "0         6.2224                      0.0                    8.0353  0.6859   \n",
       "1         3.4172                      0.0                    2.6734  1.6448   \n",
       "2         0.8972                      0.0                    4.2035  1.2171   \n",
       "3         1.3130                      0.0                    6.5545  0.1539   \n",
       "5         3.3076                      0.0                    1.3316  1.5706   \n",
       "..           ...                      ...                       ...     ...   \n",
       "165       2.2673                      0.0                    2.5449  0.6555   \n",
       "166       3.8238                      0.0                    3.7155  0.7839   \n",
       "167       2.0131                      0.0                   11.5271  0.5514   \n",
       "168       1.6113                      0.0                   14.3225  0.6266   \n",
       "169       2.9543                      0.0                    9.7922  0.3682   \n",
       "\n",
       "     Fish, Seafood  Fruits - Excluding Wine     Meat  ...  Vegetable Oils  \\\n",
       "0           0.0327                   0.4246   6.1244  ...         17.0831   \n",
       "1           0.1445                   0.6418   8.7428  ...          9.2443   \n",
       "2           0.2008                   0.5772   3.8961  ...         27.3606   \n",
       "3           1.4155                   0.3488  11.0268  ...         22.4638   \n",
       "5           0.1664                   0.2091  19.2693  ...         17.3147   \n",
       "..             ...                      ...      ...  ...             ...   \n",
       "165         0.5707                   0.9640   7.0949  ...         29.5211   \n",
       "166         1.1217                   0.4079  26.4292  ...          5.6211   \n",
       "167         0.3847                   0.2564   8.0010  ...         23.6312   \n",
       "168         1.0070                   0.1343   4.9010  ...         15.2848   \n",
       "169         0.2455                   0.0614   4.5674  ...         26.9396   \n",
       "\n",
       "     Vegetables  Obesity  Undernourished  Confirmed    Deaths  Recovered  \\\n",
       "0        0.3593      4.5            29.8   0.029370  0.000576   0.002884   \n",
       "1        0.6503     22.3             6.2   0.035129  0.001120   0.027817   \n",
       "2        0.5145     26.6             3.9   0.019589  0.001403   0.010936   \n",
       "3        0.1231      6.8              25   0.000223  0.000013   0.000057   \n",
       "5        0.1878     28.5             4.6   0.028100  0.001039   0.008899   \n",
       "..          ...      ...             ...        ...       ...        ...   \n",
       "165      0.1851     25.2            21.2   0.004128  0.000035   0.001059   \n",
       "166      0.6373      2.1             9.3   0.000341  0.000000   0.000284   \n",
       "167      0.1667     14.1            38.9   0.000799  0.000151   0.000034   \n",
       "168      0.1567      6.5            46.7   0.005151  0.000039   0.001881   \n",
       "169      0.0789     12.3            51.3   0.000382  0.000027   0.000171   \n",
       "\n",
       "       Active  Population  Unit (all except Population)  \n",
       "0    0.025911  38042000.0                             %  \n",
       "1    0.006193   2858000.0                             %  \n",
       "2    0.007250  43406000.0                             %  \n",
       "3    0.000153  31427000.0                             %  \n",
       "5    0.018162  44939000.0                             %  \n",
       "..        ...         ...                           ...  \n",
       "165  0.003033  28516000.0                             %  \n",
       "166  0.000056  95656000.0                             %  \n",
       "167  0.000614  29162000.0                             %  \n",
       "168  0.003231  17861000.0                             %  \n",
       "169  0.000184  14645000.0                             %  \n",
       "\n",
       "[153 rows x 32 columns]>"
      ]
     },
     "execution_count": 16,
     "metadata": {},
     "output_type": "execute_result"
    }
   ],
   "source": [
    "fat_supply.describe"
   ]
  },
  {
   "cell_type": "code",
   "execution_count": 17,
   "metadata": {},
   "outputs": [
    {
     "data": {
      "text/plain": [
       "(153, 32)"
      ]
     },
     "execution_count": 17,
     "metadata": {},
     "output_type": "execute_result"
    }
   ],
   "source": [
    "fat_supply.shape"
   ]
  },
  {
   "cell_type": "code",
   "execution_count": 4,
   "metadata": {},
   "outputs": [
    {
     "data": {
      "text/plain": [
       "Index(['Country', 'Alcoholic Beverages', 'Animal Products', 'Animal fats',\n",
       "       'Aquatic Products, Other', 'Cereals - Excluding Beer', 'Eggs',\n",
       "       'Fish, Seafood', 'Fruits - Excluding Wine', 'Meat', 'Miscellaneous',\n",
       "       'Milk - Excluding Butter', 'Offals', 'Oilcrops', 'Pulses', 'Spices',\n",
       "       'Starchy Roots', 'Stimulants', 'Sugar Crops', 'Sugar & Sweeteners',\n",
       "       'Treenuts', 'Vegetal Products', 'Vegetable Oils', 'Vegetables',\n",
       "       'Obesity', 'Undernourished', 'Confirmed', 'Deaths', 'Recovered',\n",
       "       'Active', 'Population', 'Unit (all except Population)'],\n",
       "      dtype='object')"
      ]
     },
     "execution_count": 4,
     "metadata": {},
     "output_type": "execute_result"
    }
   ],
   "source": [
    "fat_supply.columns"
   ]
  },
  {
   "cell_type": "markdown",
   "metadata": {},
   "source": [
    "### Linear Regression of Animal Fats vs Deaths"
   ]
  },
  {
   "cell_type": "code",
   "execution_count": 5,
   "metadata": {},
   "outputs": [],
   "source": [
    "X = fat_supply['Animal fats'].values\n",
    "y = fat_supply['Deaths'].values"
   ]
  },
  {
   "cell_type": "code",
   "execution_count": 6,
   "metadata": {},
   "outputs": [],
   "source": [
    "X=X.reshape(-1,1)"
   ]
  },
  {
   "cell_type": "code",
   "execution_count": 7,
   "metadata": {},
   "outputs": [
    {
     "name": "stdout",
     "output_type": "stream",
     "text": [
      "X_train shape (122, 1)\n",
      "y_train shape (122,)\n",
      "X_test shape (31, 1)\n",
      "y_test shape (31,)\n",
      "[1.82481752e-04 2.15485370e-03 5.33980583e-03 2.27550131e-03\n",
      " 5.13384672e-04 5.38868238e-04 1.17582504e-04 1.11966410e-03\n",
      " 1.16605295e-03 1.29516019e-02 1.85487607e-02 3.79229872e-04\n",
      " 3.73088685e-04 3.31752537e-04 3.88395925e-05 8.20595059e-04\n",
      " 4.42307692e-03 4.22280314e-04 8.62151547e-05 1.53717160e-04\n",
      " 5.02558854e-03 1.97628458e-04 5.37565596e-04 1.48886330e-03\n",
      " 0.00000000e+00 2.73130761e-05 3.92203470e-03 2.55892919e-04\n",
      " 9.89082056e-05 5.12452107e-03 3.50680320e-05]\n"
     ]
    }
   ],
   "source": [
    "# X_feature - Years of Experience\n",
    "# y_output - Salary in $\n",
    "x_train, x_test, y_train, y_test = train_test_split(X,y,train_size=0.8,test_size=0.2,random_state=100)\n",
    "print(f\"X_train shape {x_train.shape}\")\n",
    "print(f\"y_train shape {y_train.shape}\")\n",
    "print(f\"X_test shape {x_test.shape}\")\n",
    "print(f\"y_test shape {y_test.shape}\")\n",
    "print(y_test)"
   ]
  },
  {
   "cell_type": "code",
   "execution_count": 8,
   "metadata": {},
   "outputs": [
    {
     "data": {
      "image/png": "[encoded data removed]",
      "text/plain": [
       "<Figure size 432x288 with 1 Axes>"
      ]
     },
     "metadata": {
      "needs_background": "light"
     },
     "output_type": "display_data"
    }
   ],
   "source": [
    "%matplotlib inline\n",
    "plt.scatter(x_train,y_train,color='red')\n",
    "plt.xlabel('Animal Fats')\n",
    "plt.ylabel('Deaths')\n",
    "plt.title('Animal fats and deaths')\n",
    "plt.show()"
   ]
  },
  {
   "cell_type": "code",
   "execution_count": 9,
   "metadata": {},
   "outputs": [
    {
     "name": "stdout",
     "output_type": "stream",
     "text": [
      "Train accuracy 12.78 %\n",
      "Test accuracy -232.03 %\n"
     ]
    }
   ],
   "source": [
    "lm = LinearRegression()\n",
    "lm.fit(x_train,y_train)\n",
    "y_predict = lm.predict(x_test)\n",
    "print(f\"Train accuracy {round(lm.score(x_train,y_train)*100,2)} %\")\n",
    "print(f\"Test accuracy {round(lm.score(x_test,y_test)*100,2)} %\")"
   ]
  },
  {
   "cell_type": "code",
   "execution_count": 10,
   "metadata": {},
   "outputs": [
    {
     "data": {
      "text/plain": [
       "<function matplotlib.pyplot.plot(*args, scalex=True, scaley=True, data=None, **kwargs)>"
      ]
     },
     "execution_count": 10,
     "metadata": {},
     "output_type": "execute_result"
    },
    {
     "data": {
      "image/png": "[encoded data removed]",
      "text/plain": [
       "<Figure size 432x288 with 1 Axes>"
      ]
     },
     "metadata": {
      "needs_background": "light"
     },
     "output_type": "display_data"
    }
   ],
   "source": [
    "plt.scatter(x_train,y_train,color='red')\n",
    "plt.plot(x_test,y_predict)\n",
    "plt.xlabel(\"Animal Fats\")\n",
    "plt.ylabel(\"Deaths\")\n",
    "plt.title(\"Trained model plot\")\n",
    "plt.plot"
   ]
  },
  {
   "cell_type": "code",
   "execution_count": 11,
   "metadata": {},
   "outputs": [],
   "source": [
    "import seaborn as sns\n",
    "sns.set()"
   ]
  },
  {
   "cell_type": "code",
   "execution_count": 24,
   "metadata": {},
   "outputs": [
    {
     "data": {
      "text/html": [
       "<div>\n",
       "<style scoped>\n",
       "    .dataframe tbody tr th:only-of-type {\n",
       "        vertical-align: middle;\n",
       "    }\n",
       "\n",
       "    .dataframe tbody tr th {\n",
       "        vertical-align: top;\n",
       "    }\n",
       "\n",
       "    .dataframe thead th {\n",
       "        text-align: right;\n",
       "    }\n",
       "</style>\n",
       "<table border=\"1\" class=\"dataframe\">\n",
       "  <thead>\n",
       "    <tr style=\"text-align: right;\">\n",
       "      <th></th>\n",
       "      <th>Country</th>\n",
       "      <th>Alcoholic Beverages</th>\n",
       "      <th>Animal Products</th>\n",
       "      <th>Animal fats</th>\n",
       "      <th>Aquatic Products, Other</th>\n",
       "      <th>Cereals - Excluding Beer</th>\n",
       "      <th>Eggs</th>\n",
       "      <th>Fish, Seafood</th>\n",
       "      <th>Fruits - Excluding Wine</th>\n",
       "      <th>Meat</th>\n",
       "      <th>...</th>\n",
       "      <th>Vegetable Oils</th>\n",
       "      <th>Vegetables</th>\n",
       "      <th>Obesity</th>\n",
       "      <th>Undernourished</th>\n",
       "      <th>Confirmed</th>\n",
       "      <th>Deaths</th>\n",
       "      <th>Recovered</th>\n",
       "      <th>Active</th>\n",
       "      <th>Population</th>\n",
       "      <th>Unit (all except Population)</th>\n",
       "    </tr>\n",
       "  </thead>\n",
       "  <tbody>\n",
       "    <tr>\n",
       "      <th>0</th>\n",
       "      <td>Afghanistan</td>\n",
       "      <td>0.0</td>\n",
       "      <td>21.6397</td>\n",
       "      <td>6.2224</td>\n",
       "      <td>0.0</td>\n",
       "      <td>8.0353</td>\n",
       "      <td>0.6859</td>\n",
       "      <td>0.0327</td>\n",
       "      <td>0.4246</td>\n",
       "      <td>6.1244</td>\n",
       "      <td>...</td>\n",
       "      <td>17.0831</td>\n",
       "      <td>0.3593</td>\n",
       "      <td>4.5</td>\n",
       "      <td>29.8</td>\n",
       "      <td>0.029370</td>\n",
       "      <td>0.000576</td>\n",
       "      <td>0.002884</td>\n",
       "      <td>0.025911</td>\n",
       "      <td>38042000.0</td>\n",
       "      <td>%</td>\n",
       "    </tr>\n",
       "    <tr>\n",
       "      <th>1</th>\n",
       "      <td>Albania</td>\n",
       "      <td>0.0</td>\n",
       "      <td>32.0002</td>\n",
       "      <td>3.4172</td>\n",
       "      <td>0.0</td>\n",
       "      <td>2.6734</td>\n",
       "      <td>1.6448</td>\n",
       "      <td>0.1445</td>\n",
       "      <td>0.6418</td>\n",
       "      <td>8.7428</td>\n",
       "      <td>...</td>\n",
       "      <td>9.2443</td>\n",
       "      <td>0.6503</td>\n",
       "      <td>22.3</td>\n",
       "      <td>6.2</td>\n",
       "      <td>0.035129</td>\n",
       "      <td>0.001120</td>\n",
       "      <td>0.027817</td>\n",
       "      <td>0.006193</td>\n",
       "      <td>2858000.0</td>\n",
       "      <td>%</td>\n",
       "    </tr>\n",
       "    <tr>\n",
       "      <th>2</th>\n",
       "      <td>Algeria</td>\n",
       "      <td>0.0</td>\n",
       "      <td>14.4175</td>\n",
       "      <td>0.8972</td>\n",
       "      <td>0.0</td>\n",
       "      <td>4.2035</td>\n",
       "      <td>1.2171</td>\n",
       "      <td>0.2008</td>\n",
       "      <td>0.5772</td>\n",
       "      <td>3.8961</td>\n",
       "      <td>...</td>\n",
       "      <td>27.3606</td>\n",
       "      <td>0.5145</td>\n",
       "      <td>26.6</td>\n",
       "      <td>3.9</td>\n",
       "      <td>0.019589</td>\n",
       "      <td>0.001403</td>\n",
       "      <td>0.010936</td>\n",
       "      <td>0.007250</td>\n",
       "      <td>43406000.0</td>\n",
       "      <td>%</td>\n",
       "    </tr>\n",
       "    <tr>\n",
       "      <th>3</th>\n",
       "      <td>Angola</td>\n",
       "      <td>0.0</td>\n",
       "      <td>15.3041</td>\n",
       "      <td>1.3130</td>\n",
       "      <td>0.0</td>\n",
       "      <td>6.5545</td>\n",
       "      <td>0.1539</td>\n",
       "      <td>1.4155</td>\n",
       "      <td>0.3488</td>\n",
       "      <td>11.0268</td>\n",
       "      <td>...</td>\n",
       "      <td>22.4638</td>\n",
       "      <td>0.1231</td>\n",
       "      <td>6.8</td>\n",
       "      <td>25</td>\n",
       "      <td>0.000223</td>\n",
       "      <td>0.000013</td>\n",
       "      <td>0.000057</td>\n",
       "      <td>0.000153</td>\n",
       "      <td>31427000.0</td>\n",
       "      <td>%</td>\n",
       "    </tr>\n",
       "    <tr>\n",
       "      <th>5</th>\n",
       "      <td>Argentina</td>\n",
       "      <td>0.0</td>\n",
       "      <td>30.3572</td>\n",
       "      <td>3.3076</td>\n",
       "      <td>0.0</td>\n",
       "      <td>1.3316</td>\n",
       "      <td>1.5706</td>\n",
       "      <td>0.1664</td>\n",
       "      <td>0.2091</td>\n",
       "      <td>19.2693</td>\n",
       "      <td>...</td>\n",
       "      <td>17.3147</td>\n",
       "      <td>0.1878</td>\n",
       "      <td>28.5</td>\n",
       "      <td>4.6</td>\n",
       "      <td>0.028100</td>\n",
       "      <td>0.001039</td>\n",
       "      <td>0.008899</td>\n",
       "      <td>0.018162</td>\n",
       "      <td>44939000.0</td>\n",
       "      <td>%</td>\n",
       "    </tr>\n",
       "  </tbody>\n",
       "</table>\n",
       "<p>5 rows × 32 columns</p>\n",
       "</div>"
      ],
      "text/plain": [
       "       Country  Alcoholic Beverages  Animal Products  Animal fats  \\\n",
       "0  Afghanistan                  0.0          21.6397       6.2224   \n",
       "1      Albania                  0.0          32.0002       3.4172   \n",
       "2      Algeria                  0.0          14.4175       0.8972   \n",
       "3       Angola                  0.0          15.3041       1.3130   \n",
       "5    Argentina                  0.0          30.3572       3.3076   \n",
       "\n",
       "   Aquatic Products, Other  Cereals - Excluding Beer    Eggs  Fish, Seafood  \\\n",
       "0                      0.0                    8.0353  0.6859         0.0327   \n",
       "1                      0.0                    2.6734  1.6448         0.1445   \n",
       "2                      0.0                    4.2035  1.2171         0.2008   \n",
       "3                      0.0                    6.5545  0.1539         1.4155   \n",
       "5                      0.0                    1.3316  1.5706         0.1664   \n",
       "\n",
       "   Fruits - Excluding Wine     Meat  ...  Vegetable Oils  Vegetables  Obesity  \\\n",
       "0                   0.4246   6.1244  ...         17.0831      0.3593      4.5   \n",
       "1                   0.6418   8.7428  ...          9.2443      0.6503     22.3   \n",
       "2                   0.5772   3.8961  ...         27.3606      0.5145     26.6   \n",
       "3                   0.3488  11.0268  ...         22.4638      0.1231      6.8   \n",
       "5                   0.2091  19.2693  ...         17.3147      0.1878     28.5   \n",
       "\n",
       "   Undernourished  Confirmed    Deaths  Recovered    Active  Population  \\\n",
       "0            29.8   0.029370  0.000576   0.002884  0.025911  38042000.0   \n",
       "1             6.2   0.035129  0.001120   0.027817  0.006193   2858000.0   \n",
       "2             3.9   0.019589  0.001403   0.010936  0.007250  43406000.0   \n",
       "3              25   0.000223  0.000013   0.000057  0.000153  31427000.0   \n",
       "5             4.6   0.028100  0.001039   0.008899  0.018162  44939000.0   \n",
       "\n",
       "   Unit (all except Population)  \n",
       "0                             %  \n",
       "1                             %  \n",
       "2                             %  \n",
       "3                             %  \n",
       "5                             %  \n",
       "\n",
       "[5 rows x 32 columns]"
      ]
     },
     "execution_count": 24,
     "metadata": {},
     "output_type": "execute_result"
    }
   ],
   "source": [
    "fat_supply.head()"
   ]
  },
  {
   "cell_type": "code",
   "execution_count": 39,
   "metadata": {},
   "outputs": [
    {
     "data": {
      "text/plain": [
       "<matplotlib.axes._subplots.AxesSubplot at 0x137c579a0>"
      ]
     },
     "execution_count": 39,
     "metadata": {},
     "output_type": "execute_result"
    },
    {
     "data": {
      "image/png": "[encoded data removed]",
      "text/plain": [
       "<Figure size 432x288 with 1 Axes>"
      ]
     },
     "metadata": {},
     "output_type": "display_data"
    }
   ],
   "source": [
    "\n",
    "sns.regplot(x = 'Animal fats', y= 'Deaths', data = fat_supply,order = 1)"
   ]
  },
  {
   "cell_type": "code",
   "execution_count": 23,
   "metadata": {},
   "outputs": [
    {
     "data": {
      "text/plain": [
       "<matplotlib.axes._subplots.AxesSubplot at 0x1332ddb50>"
      ]
     },
     "execution_count": 23,
     "metadata": {},
     "output_type": "execute_result"
    },
    {
     "data": {
      "image/png": "[encoded data removed]",
      "text/plain": [
       "<Figure size 432x288 with 1 Axes>"
      ]
     },
     "metadata": {},
     "output_type": "display_data"
    }
   ],
   "source": [
    "\n",
    "sns.regplot(x = 'Animal fats', y= 'Deaths', data = fat_supply, order =2)"
   ]
  },
  {
   "cell_type": "code",
   "execution_count": 40,
   "metadata": {},
   "outputs": [
    {
     "data": {
      "text/plain": [
       "<seaborn.axisgrid.FacetGrid at 0x137d1c4f0>"
      ]
     },
     "execution_count": 40,
     "metadata": {},
     "output_type": "execute_result"
    },
    {
     "data": {
      "image/png": "[encoded data removed]",
      "text/plain": [
       "<Figure size 360x360 with 1 Axes>"
      ]
     },
     "metadata": {},
     "output_type": "display_data"
    }
   ],
   "source": [
    "\n",
    "sns.lmplot(x = 'Animal fats', y= 'Deaths', data = fat_supply,ci=None, scatter_kws={\"s\": 80})"
   ]
  },
  {
   "cell_type": "markdown",
   "metadata": {},
   "source": [
    "### Conclusion"
   ]
  },
  {
   "cell_type": "markdown",
   "metadata": {},
   "source": [
    "This data set is from [Kaggle COVID19_eating](https://www.kaggle.com/mariaren/covid19-healthy-diet-dataset) and examined the fat_supply_quantity_data.csv file\n",
    "1. There is positive correlation between the Animal fats consumed and the number of deaths by COVID19, which means that the more Animal Fats were consumed, there was higher likelihood of death."
   ]
  },
  {
   "cell_type": "markdown",
   "metadata": {},
   "source": [
    "2. The graph is the using seaborn with order-2 which accounts for the decrease in the deaths with very high animal fat consumption.  This may be possible because higher animal fast consumption occurs in countries with high GDP and so possibly lower deaths than in poorer, underproverished countries. \n",
    "5. Since most developing countries have middle of the range animal fat consumption (_assumption_), they also have higher death rate, than the well proverished, higher GDP countries with higher animal fat con"
   ]
  }
 ],
 "metadata": {
  "kernelspec": {
   "display_name": "Python 3",
   "language": "python",
   "name": "python3"
  },
  "language_info": {
   "codemirror_mode": {
    "name": "ipython",
    "version": 3
   },
   "file_extension": ".py",
   "mimetype": "text/x-python",
   "name": "python",
   "nbconvert_exporter": "python",
   "pygments_lexer": "ipython3",
   "version": "3.8.2"
  }
 },
 "nbformat": 4,
 "nbformat_minor": 4
}
